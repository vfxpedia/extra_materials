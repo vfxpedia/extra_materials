{
 "cells": [
  {
   "cell_type": "markdown",
   "id": "0617acdf",
   "metadata": {},
   "source": [
    "# 머신러닝 모델 저장하기 (joblib)"
   ]
  },
  {
   "cell_type": "code",
   "execution_count": null,
   "id": "ba7e99b6",
   "metadata": {},
   "outputs": [
    {
     "name": "stdout",
     "output_type": "stream",
     "text": [
      "Requirement already satisfied: joblib in c:\\users\\playdata\\anaconda3\\envs\\ml_env\\lib\\site-packages (1.5.2)\n"
     ]
    }
   ],
   "source": [
    "# !pip install joblib"
   ]
  },
  {
   "cell_type": "code",
   "execution_count": 8,
   "id": "21f0cf5d",
   "metadata": {},
   "outputs": [
    {
     "name": "stdout",
     "output_type": "stream",
     "text": [
      "accuracy_score : 0.8646153846153846\n"
     ]
    },
    {
     "data": {
      "text/plain": [
       "['rf_model.joblib']"
      ]
     },
     "execution_count": 8,
     "metadata": {},
     "output_type": "execute_result"
    }
   ],
   "source": [
    "import numpy as np\n",
    "import pandas as pd\n",
    "from sklearn.ensemble import RandomForestClassifier\n",
    "from sklearn.model_selection import train_test_split\n",
    "from sklearn.metrics import accuracy_score\n",
    "from joblib import dump\n",
    "\n",
    "# 데이터 로드\n",
    "wine_df = pd.read_csv('./data/wine_simple.csv')\n",
    "X = wine_df.drop('class', axis=1)\n",
    "y = wine_df['class']\n",
    "\n",
    "# 데이터 분할\n",
    "X_train, X_test, y_train, y_test = train_test_split(X, y, test_size=0.2, random_state=42, stratify=y)\n",
    "\n",
    "# 모델 생성\n",
    "model = RandomForestClassifier(n_estimators=100, max_depth=10, random_state=42)\n",
    "\n",
    "# 모델 학습\n",
    "model.fit(X_train, y_train)\n",
    "\n",
    "# 모델 예측\n",
    "y_pred = model.predict(X_test)\n",
    "\n",
    "# 모델 평가\n",
    "print('accuracy_score :', accuracy_score(y_test, y_pred))\n",
    "\n",
    "# 모델 저장\n",
    "\n",
    "dump(model, 'rf_model.joblib') # 머신러닝 모델 저장\n"
   ]
  },
  {
   "cell_type": "code",
   "execution_count": null,
   "id": "ad04a7df",
   "metadata": {},
   "outputs": [
    {
     "name": "stdout",
     "output_type": "stream",
     "text": [
      "accuracy_score : 0.8646153846153846\n"
     ]
    }
   ],
   "source": [
    "# 저장한 모델 불러오기\n",
    "from joblib import load\n",
    "\n",
    "loaded_model = load('rf_model.joblib')\n",
    "\n",
    "y_pred = loaded_model.predict(X_test)\n",
    "\n",
    "print('accuracy_score :', accuracy_score(y_test, y_pred))"
   ]
  },
  {
   "cell_type": "code",
   "execution_count": null,
   "id": "56b8a969",
   "metadata": {},
   "outputs": [
    {
     "data": {
      "text/plain": [
       "True"
      ]
     },
     "execution_count": 11,
     "metadata": {},
     "output_type": "execute_result"
    }
   ],
   "source": [
    "# 학습한 모델과 저장한 모델이 같은지 확인하기\n",
    "preds = model.predict(X_test)\n",
    "loaded_preds = loaded_model.predict(X_test)\n",
    "\n",
    "# 같은 배열인지 확인해보기\n",
    "np.array_equal(preds, loaded_preds)"
   ]
  },
  {
   "cell_type": "code",
   "execution_count": 12,
   "id": "410f9326",
   "metadata": {},
   "outputs": [
    {
     "data": {
      "text/plain": [
       "['customer_data.csv',\n",
       " 'data',\n",
       " 'data_generate.ipynb',\n",
       " 'model_save.ipynb',\n",
       " 'rf_model.joblib']"
      ]
     },
     "execution_count": 12,
     "metadata": {},
     "output_type": "execute_result"
    }
   ],
   "source": [
    "# 모델 저장 폴더 확인\n",
    "import os\n",
    "os.listdir('./')"
   ]
  },
  {
   "cell_type": "code",
   "execution_count": null,
   "id": "a5b482aa",
   "metadata": {},
   "outputs": [
    {
     "name": "stdout",
     "output_type": "stream",
     "text": [
      "False\n"
     ]
    }
   ],
   "source": [
    "model2 = RandomForestClassifier(n_estimators=100)\n",
    "model2.fit(X_train, y_train)\n",
    "new_preds = model2.predict(X_test)\n",
    "\n",
    "print(np.array_equal(preds, new_preds))\n",
    "\n"
   ]
  }
 ],
 "metadata": {
  "kernelspec": {
   "display_name": "ml_env",
   "language": "python",
   "name": "python3"
  },
  "language_info": {
   "codemirror_mode": {
    "name": "ipython",
    "version": 3
   },
   "file_extension": ".py",
   "mimetype": "text/x-python",
   "name": "python",
   "nbconvert_exporter": "python",
   "pygments_lexer": "ipython3",
   "version": "3.12.11"
  }
 },
 "nbformat": 4,
 "nbformat_minor": 5
}
