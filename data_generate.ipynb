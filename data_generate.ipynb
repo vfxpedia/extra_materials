{
 "cells": [
  {
   "cell_type": "code",
   "execution_count": null,
   "id": "876ad75d",
   "metadata": {},
   "outputs": [
    {
     "name": "stdout",
     "output_type": "stream",
     "text": [
      "Requirement already satisfied: faker in c:\\users\\playdata\\anaconda3\\envs\\ml_env\\lib\\site-packages (37.8.0)\n",
      "Requirement already satisfied: tzdata in c:\\users\\playdata\\anaconda3\\envs\\ml_env\\lib\\site-packages (from faker) (2025.2)\n"
     ]
    }
   ],
   "source": [
    "# !pip install faker"
   ]
  },
  {
   "cell_type": "markdown",
   "id": "a5f05d99",
   "metadata": {},
   "source": [
    "# Faker\n",
    "- 가상 데이터 생성"
   ]
  },
  {
   "cell_type": "code",
   "execution_count": null,
   "id": "f42589ee",
   "metadata": {},
   "outputs": [
    {
     "name": "stdout",
     "output_type": "stream",
     "text": [
      "이름 :  Thomas Davis\n",
      "주소 :  USCGC Kramer\n",
      "FPO AP 35283\n",
      "텍스트 :  Born hard mean house need world ten avoid. Not resource single finish time.\n",
      "Security fire home cover day career against. Number on history argue house society.\n",
      "이메일 :  margaret70@example.org\n",
      "전화번호 :  219-383-1436\n",
      "랜덤 숫자 :  755956669\n",
      "랜덤 요소 :  b\n"
     ]
    }
   ],
   "source": [
    "from faker import Faker\n",
    "\n",
    "fake = Faker()\n",
    "print('이름 : ', fake.name())\n",
    "print('주소 : ', fake.address())\n",
    "print('텍스트 : ', fake.text())\n",
    "print('이메일 : ', fake.email())\n",
    "print('전화번호 : ', fake.phone_number())\n",
    "print('랜덤 숫자 : ', fake.random_number())\n",
    "print('랜덤 요소 : ', fake.random_element())"
   ]
  },
  {
   "cell_type": "code",
   "execution_count": 100,
   "id": "278b6f78",
   "metadata": {},
   "outputs": [
    {
     "name": "stdout",
     "output_type": "stream",
     "text": [
      "Timothy Collins\n",
      "Miranda, Smith\n",
      "hjenkins@example.com\n",
      "williamsjames@example.com\n",
      "Wiley-Webb\n",
      "1977-05-10\n"
     ]
    }
   ],
   "source": [
    "print(fake.name())\n",
    "print(fake.first_name() +\",\", fake.last_name())\n",
    "print(fake.email())\n",
    "print(fake.email())\n",
    "print(fake.company())\n",
    "print(fake.date_of_birth(minimum_age=18, maximum_age=65))"
   ]
  },
  {
   "cell_type": "code",
   "execution_count": 115,
   "id": "90b4f873",
   "metadata": {},
   "outputs": [],
   "source": [
    "import pandas as pd\n",
    "import random\n",
    "fake = Faker()\n",
    "\n",
    "def generate_customer_data(n=1000):\n",
    "\n",
    "    data = []\n",
    "\n",
    "    for _ in range(n):\n",
    "        age = fake.random_int(min=19, max=60)\n",
    "        sub_months = fake.random_int(min=1, max=12)\n",
    "        monthly_payment = round(random.uniform(10, 100), 2)\n",
    "        usage_frequency = fake.random_int(min=1, max=30)\n",
    "        stft_score = fake.random_int(min=0, max=5)\n",
    "        churn = fake.boolean(chance_of_getting_true=30) # 30% 확률로 True -> 고객 이탈\n",
    "\n",
    "        data.append([age, sub_months, monthly_payment, usage_frequency, stft_score, churn])\n",
    "\n",
    "        columns = [\"AGE\", \"SUB_MONTHS\", \"MONTHLY_PAYMENT\", \"USAGE_FREQ\", \"STFT\", \"CHURN\"]\n",
    "\n",
    "    return pd.DataFrame(data, columns=columns)"
   ]
  },
  {
   "cell_type": "code",
   "execution_count": 117,
   "id": "39eb36e0",
   "metadata": {},
   "outputs": [
    {
     "data": {
      "text/html": [
       "<div>\n",
       "<style scoped>\n",
       "    .dataframe tbody tr th:only-of-type {\n",
       "        vertical-align: middle;\n",
       "    }\n",
       "\n",
       "    .dataframe tbody tr th {\n",
       "        vertical-align: top;\n",
       "    }\n",
       "\n",
       "    .dataframe thead th {\n",
       "        text-align: right;\n",
       "    }\n",
       "</style>\n",
       "<table border=\"1\" class=\"dataframe\">\n",
       "  <thead>\n",
       "    <tr style=\"text-align: right;\">\n",
       "      <th></th>\n",
       "      <th>AGE</th>\n",
       "      <th>SUB_MONTHS</th>\n",
       "      <th>MONTHLY_PAYMENT</th>\n",
       "      <th>USAGE_FREQ</th>\n",
       "      <th>STFT</th>\n",
       "      <th>CHURN</th>\n",
       "    </tr>\n",
       "  </thead>\n",
       "  <tbody>\n",
       "    <tr>\n",
       "      <th>0</th>\n",
       "      <td>60</td>\n",
       "      <td>10</td>\n",
       "      <td>71.67</td>\n",
       "      <td>19</td>\n",
       "      <td>5</td>\n",
       "      <td>True</td>\n",
       "    </tr>\n",
       "    <tr>\n",
       "      <th>1</th>\n",
       "      <td>39</td>\n",
       "      <td>5</td>\n",
       "      <td>44.96</td>\n",
       "      <td>6</td>\n",
       "      <td>1</td>\n",
       "      <td>False</td>\n",
       "    </tr>\n",
       "    <tr>\n",
       "      <th>2</th>\n",
       "      <td>31</td>\n",
       "      <td>10</td>\n",
       "      <td>14.08</td>\n",
       "      <td>15</td>\n",
       "      <td>0</td>\n",
       "      <td>False</td>\n",
       "    </tr>\n",
       "    <tr>\n",
       "      <th>3</th>\n",
       "      <td>24</td>\n",
       "      <td>7</td>\n",
       "      <td>69.41</td>\n",
       "      <td>22</td>\n",
       "      <td>2</td>\n",
       "      <td>False</td>\n",
       "    </tr>\n",
       "    <tr>\n",
       "      <th>4</th>\n",
       "      <td>51</td>\n",
       "      <td>5</td>\n",
       "      <td>20.69</td>\n",
       "      <td>29</td>\n",
       "      <td>2</td>\n",
       "      <td>True</td>\n",
       "    </tr>\n",
       "    <tr>\n",
       "      <th>...</th>\n",
       "      <td>...</td>\n",
       "      <td>...</td>\n",
       "      <td>...</td>\n",
       "      <td>...</td>\n",
       "      <td>...</td>\n",
       "      <td>...</td>\n",
       "    </tr>\n",
       "    <tr>\n",
       "      <th>199995</th>\n",
       "      <td>40</td>\n",
       "      <td>2</td>\n",
       "      <td>58.29</td>\n",
       "      <td>13</td>\n",
       "      <td>4</td>\n",
       "      <td>False</td>\n",
       "    </tr>\n",
       "    <tr>\n",
       "      <th>199996</th>\n",
       "      <td>57</td>\n",
       "      <td>9</td>\n",
       "      <td>78.48</td>\n",
       "      <td>6</td>\n",
       "      <td>1</td>\n",
       "      <td>True</td>\n",
       "    </tr>\n",
       "    <tr>\n",
       "      <th>199997</th>\n",
       "      <td>22</td>\n",
       "      <td>9</td>\n",
       "      <td>77.32</td>\n",
       "      <td>28</td>\n",
       "      <td>5</td>\n",
       "      <td>True</td>\n",
       "    </tr>\n",
       "    <tr>\n",
       "      <th>199998</th>\n",
       "      <td>53</td>\n",
       "      <td>4</td>\n",
       "      <td>39.72</td>\n",
       "      <td>27</td>\n",
       "      <td>3</td>\n",
       "      <td>True</td>\n",
       "    </tr>\n",
       "    <tr>\n",
       "      <th>199999</th>\n",
       "      <td>52</td>\n",
       "      <td>6</td>\n",
       "      <td>91.15</td>\n",
       "      <td>3</td>\n",
       "      <td>4</td>\n",
       "      <td>False</td>\n",
       "    </tr>\n",
       "  </tbody>\n",
       "</table>\n",
       "<p>200000 rows × 6 columns</p>\n",
       "</div>"
      ],
      "text/plain": [
       "        AGE  SUB_MONTHS  MONTHLY_PAYMENT  USAGE_FREQ  STFT  CHURN\n",
       "0        60          10            71.67          19     5   True\n",
       "1        39           5            44.96           6     1  False\n",
       "2        31          10            14.08          15     0  False\n",
       "3        24           7            69.41          22     2  False\n",
       "4        51           5            20.69          29     2   True\n",
       "...     ...         ...              ...         ...   ...    ...\n",
       "199995   40           2            58.29          13     4  False\n",
       "199996   57           9            78.48           6     1   True\n",
       "199997   22           9            77.32          28     5   True\n",
       "199998   53           4            39.72          27     3   True\n",
       "199999   52           6            91.15           3     4  False\n",
       "\n",
       "[200000 rows x 6 columns]"
      ]
     },
     "execution_count": 117,
     "metadata": {},
     "output_type": "execute_result"
    }
   ],
   "source": [
    "customer_df = generate_customer_data(200000)\n",
    "customer_df"
   ]
  },
  {
   "cell_type": "code",
   "execution_count": 118,
   "id": "9feff9ac",
   "metadata": {},
   "outputs": [],
   "source": [
    "customer_df.to_csv('customer_data.csv', index=False)"
   ]
  },
  {
   "cell_type": "code",
   "execution_count": null,
   "id": "0156c571",
   "metadata": {},
   "outputs": [],
   "source": [
    "# 다음시간 Deep Learning 기반의 추천 시스템\n",
    "# 컨텐츠 기반의 추천 시스템\n",
    "# 회귀 기반의 추천 시스템"
   ]
  }
 ],
 "metadata": {
  "kernelspec": {
   "display_name": "ml_env",
   "language": "python",
   "name": "python3"
  },
  "language_info": {
   "codemirror_mode": {
    "name": "ipython",
    "version": 3
   },
   "file_extension": ".py",
   "mimetype": "text/x-python",
   "name": "python",
   "nbconvert_exporter": "python",
   "pygments_lexer": "ipython3",
   "version": "3.12.11"
  }
 },
 "nbformat": 4,
 "nbformat_minor": 5
}
